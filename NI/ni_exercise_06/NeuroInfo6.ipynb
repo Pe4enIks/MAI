{
  "nbformat": 4,
  "nbformat_minor": 0,
  "metadata": {
    "colab": {
      "provenance": [],
      "collapsed_sections": []
    },
    "kernelspec": {
      "name": "python3",
      "display_name": "Python 3"
    },
    "language_info": {
      "name": "python"
    }
  },
  "cells": [
    {
      "cell_type": "markdown",
      "source": [
        "# Лабораторная работа №6 по курсу \"Нейроинформатика\".\n",
        "Выполнил Пищик Е.С. М8О-406Б-19."
      ],
      "metadata": {
        "id": "L5vzGvQPziof"
      }
    },
    {
      "cell_type": "markdown",
      "source": [
        "## Цель работы."
      ],
      "metadata": {
        "id": "ZCLMMFlezqYv"
      }
    },
    {
      "cell_type": "markdown",
      "source": [
        "Исследование свойств слоя Кохонена, карты Кохонена, а также сетей векторного квантования, обучаемых с учителем, алгоритмов обучения, а также применение сетей в задачах кластеризации и классификации."
      ],
      "metadata": {
        "id": "MK1owmyizv5p"
      }
    },
    {
      "cell_type": "code",
      "source": [
        "import numpy as np\n",
        "from tqdm import tqdm\n",
        "import matplotlib.pyplot as plt"
      ],
      "metadata": {
        "id": "7pgkeDxtQdKr"
      },
      "execution_count": 1,
      "outputs": []
    },
    {
      "cell_type": "code",
      "source": [
        "class SOM():\n",
        "    def __init__(self, f, w, h):\n",
        "        self.nodes = np.random.randn(w * h, f)\n",
        "        self.ids = np.array([[x, y] for x in range(h) for y in range(w)])\n",
        "\n",
        "    def update(self, inp, r, lr):\n",
        "        bmu_dist = np.linalg.norm(self.nodes - inp, axis=1)\n",
        "        bmu_ids = np.argmin(bmu_dist)\n",
        "\n",
        "        nodes_dist = np.linalg.norm(self.ids - self.ids[bmu_ids], axis=1)\n",
        "\n",
        "        for d, node in zip(nodes_dist, self.nodes):\n",
        "            if d < r:\n",
        "                influence = np.exp(-d / (2 * r))\n",
        "                node += lr * influence * (inp - node)"
      ],
      "metadata": {
        "id": "c_riyEpBQfOB"
      },
      "execution_count": 2,
      "outputs": []
    },
    {
      "cell_type": "code",
      "source": [
        "def gen_train_data():\n",
        "    data = []\n",
        "\n",
        "    data += [0.3, 1.1]\n",
        "    data += [-1.0, 0.7]\n",
        "    data += [-0.5, -0.3]\n",
        "    data += [-1.1, 0.9]\n",
        "    data += [0.3, 0.7]\n",
        "    data += [0.9, -1.3]\n",
        "    data += [1.3, -0.1]\n",
        "    data += [0.7, 0.7]\n",
        "    data += [0.7, 0.7]\n",
        "    data += [0.9, -1.1]\n",
        "    data += [-0.2, 0.3]\n",
        "    data += [1.2, 1.0]\n",
        "    data += [1.1, 0.2]\n",
        "\n",
        "    return data"
      ],
      "metadata": {
        "id": "HpJlmza7Qfv3"
      },
      "execution_count": 3,
      "outputs": []
    },
    {
      "cell_type": "code",
      "source": [
        "epochs = 100\n",
        "w, h, f = 64, 48, 2\n",
        "r = init_r = int(max(w, h) / 2)\n",
        "lr = init_lr = 1.0"
      ],
      "metadata": {
        "id": "XNyVNWKwQjL_"
      },
      "execution_count": 4,
      "outputs": []
    },
    {
      "cell_type": "code",
      "source": [
        "model = SOM(w=w, h=h, f=f)\n",
        "train_dataset = gen_train_data()"
      ],
      "metadata": {
        "id": "od9GhvMaQmWg"
      },
      "execution_count": 5,
      "outputs": []
    },
    {
      "cell_type": "code",
      "source": [
        "for epoch in tqdm(range(epochs)):\n",
        "    np.random.shuffle(train_dataset)\n",
        "\n",
        "    for inp in train_dataset:\n",
        "        model.update(inp, r, lr)\n",
        "\n",
        "    r = init_r + np.exp(-epoch / (epochs / np.log(init_r)))\n",
        "    lr = init_lr + np.exp(-epoch / epochs)"
      ],
      "metadata": {
        "colab": {
          "base_uri": "https://localhost:8080/",
          "height": 0
        },
        "id": "SzxZ5QV4QpO2",
        "outputId": "9606a4c7-8136-4593-8245-3f7d1b72b0c9"
      },
      "execution_count": 6,
      "outputs": [
        {
          "output_type": "stream",
          "name": "stderr",
          "text": [
            "100%|██████████| 100/100 [00:24<00:00,  4.03it/s]\n"
          ]
        }
      ]
    },
    {
      "cell_type": "code",
      "source": [
        "dot = np.dot(model.nodes[..., :2], [0.5, 0.5])\n",
        "img = dot.astype(np.float32).reshape((h, w, 1)).repeat(3, axis=2)\n",
        "img = np.clip(img, a_min=0.0, a_max=1.0)\n",
        "img = plt.imshow(img, cmap='gray')"
      ],
      "metadata": {
        "colab": {
          "base_uri": "https://localhost:8080/",
          "height": 267
        },
        "id": "qVDrn5z2Qs0j",
        "outputId": "20696f0a-d69d-4cdb-990c-ec9f74d40eb5"
      },
      "execution_count": 10,
      "outputs": [
        {
          "output_type": "display_data",
          "data": {
            "text/plain": [
              "<Figure size 432x288 with 1 Axes>"
            ],
            "image/png": "[encoded data removed]"
          },
          "metadata": {
            "needs_background": "light"
          }
        }
      ]
    },
    {
      "cell_type": "markdown",
      "source": [
        "## Выводы."
      ],
      "metadata": {
        "id": "vlcqoWKPUmDJ"
      }
    },
    {
      "cell_type": "markdown",
      "source": [
        "В данной лабораторной работе мы научились работать с моделью карты Кохонена для задачи кластеризации."
      ],
      "metadata": {
        "id": "hSZ_XozmUnnl"
      }
    },
    {
      "cell_type": "code",
      "source": [],
      "metadata": {
        "id": "byL2AR3ORZ64"
      },
      "execution_count": null,
      "outputs": []
    }
  ]
}