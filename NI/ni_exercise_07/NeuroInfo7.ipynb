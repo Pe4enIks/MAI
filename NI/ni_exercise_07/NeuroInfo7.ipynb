{
  "nbformat": 4,
  "nbformat_minor": 0,
  "metadata": {
    "colab": {
      "provenance": []
    },
    "kernelspec": {
      "name": "python3",
      "display_name": "Python 3"
    },
    "language_info": {
      "name": "python"
    },
    "accelerator": "GPU",
    "gpuClass": "standard"
  },
  "cells": [
    {
      "cell_type": "markdown",
      "source": [
        "# Лабораторная работа №7 по курсу \"Нейроинформатика\".\n",
        "Выполнил Пищик Е.С. М8О-406Б-19."
      ],
      "metadata": {
        "id": "L5vzGvQPziof"
      }
    },
    {
      "cell_type": "markdown",
      "source": [
        "## Цель работы."
      ],
      "metadata": {
        "id": "ZCLMMFlezqYv"
      }
    },
    {
      "cell_type": "markdown",
      "source": [
        "Исследование свойств автоассоциативных сетей с узким горлом, алгоритмов обучения, а также применение сетей для выполнения линейного и нелинейного анализа главных компонент набора данных."
      ],
      "metadata": {
        "id": "MK1owmyizv5p"
      }
    },
    {
      "cell_type": "code",
      "source": [
        "import numpy as np\n",
        "import matplotlib.pyplot as plt\n",
        "import torch\n",
        "import torch.nn as nn\n",
        "from collections import OrderedDict\n",
        "from torchvision.datasets import MNIST, CIFAR10\n",
        "from torch.utils.data import DataLoader\n",
        "from torch.optim import Adam\n",
        "import torchvision.transforms as transforms\n",
        "import random"
      ],
      "metadata": {
        "id": "7pgkeDxtQdKr"
      },
      "execution_count": 176,
      "outputs": []
    },
    {
      "cell_type": "markdown",
      "source": [
        "## Linear AutoEncoder."
      ],
      "metadata": {
        "id": "y8PwR_gpmU_d"
      }
    },
    {
      "cell_type": "code",
      "source": [
        "bs = 64\n",
        "epochs = 1000\n",
        "lr = 0.001\n",
        "pe = 100\n",
        "wd = 0.00001\n",
        "split = 0.01\n",
        "device = torch.device('cuda:0') if torch.cuda.is_available() else torch.device('cpu')"
      ],
      "metadata": {
        "id": "1IQLlldAOyPa"
      },
      "execution_count": 191,
      "outputs": []
    },
    {
      "cell_type": "code",
      "source": [
        "dataset = MNIST(root='.', download=True, train=True, transform=transforms.ToTensor())\n",
        "dataset, _ = torch.utils.data.random_split(dataset, [int(split * len(dataset)), int((1.0 - split) * len(dataset))])\n",
        "dataloader = DataLoader(dataset, batch_size=bs, shuffle=True)"
      ],
      "metadata": {
        "id": "Ui6c0cCDNSX-"
      },
      "execution_count": 192,
      "outputs": []
    },
    {
      "cell_type": "code",
      "source": [
        "class AutoEncoder(nn.Module):\n",
        "    def __init__(self, size, down_channels, up_channels):\n",
        "        super().__init__()\n",
        "        \n",
        "        encoder_layers = [('flatten', torch.nn.Flatten())]\n",
        "        decoder_layers = []\n",
        "\n",
        "        for idx, (in_channels, out_channels) in enumerate(zip(down_channels[:-1], down_channels[1:])):\n",
        "            encoder_layers.append((f'linear{idx + 1}', nn.Linear(in_channels, out_channels)))\n",
        "            if idx != len(down_channels[:-1]) - 1:\n",
        "                encoder_layers.append((f'sigmoid{idx + 1}', nn.Sigmoid()))\n",
        "        \n",
        "        for idx, (in_channels, out_channels) in enumerate(zip(up_channels[:-1], up_channels[1:])):\n",
        "            decoder_layers.append((f'linear{idx + 1}', nn.Linear(in_channels, out_channels)))\n",
        "            decoder_layers.append((f'sigmoid{idx + 1}', nn.Sigmoid()))\n",
        "        decoder_layers.append(('unflatten', nn.Unflatten(1, size)))\n",
        "        \n",
        "        encoder = nn.Sequential(OrderedDict(encoder_layers))\n",
        "        decoder = nn.Sequential(OrderedDict(decoder_layers))\n",
        "        self.autoencoder = nn.Sequential(OrderedDict([('encoder', encoder), ('decoder', decoder)]))\n",
        "    \n",
        "    def forward(self, x):\n",
        "        return self.autoencoder(x)"
      ],
      "metadata": {
        "id": "c_riyEpBQfOB"
      },
      "execution_count": 193,
      "outputs": []
    },
    {
      "cell_type": "code",
      "source": [
        "autoencoder = AutoEncoder((1, 28, 28), [784, 256, 64, 32], [32, 64, 256, 784]).to(device)\n",
        "optimizer = Adam(autoencoder.parameters(), lr=lr, weight_decay=wd)\n",
        "criterion = nn.MSELoss()\n",
        "print(autoencoder)"
      ],
      "metadata": {
        "colab": {
          "base_uri": "https://localhost:8080/"
        },
        "id": "_0db4hcQlrkN",
        "outputId": "3161e282-2be5-4178-b68f-226975c08a46"
      },
      "execution_count": 194,
      "outputs": [
        {
          "output_type": "stream",
          "name": "stdout",
          "text": [
            "AutoEncoder(\n",
            "  (autoencoder): Sequential(\n",
            "    (encoder): Sequential(\n",
            "      (flatten): Flatten(start_dim=1, end_dim=-1)\n",
            "      (linear1): Linear(in_features=784, out_features=256, bias=True)\n",
            "      (sigmoid1): Sigmoid()\n",
            "      (linear2): Linear(in_features=256, out_features=64, bias=True)\n",
            "      (sigmoid2): Sigmoid()\n",
            "      (linear3): Linear(in_features=64, out_features=32, bias=True)\n",
            "    )\n",
            "    (decoder): Sequential(\n",
            "      (linear1): Linear(in_features=32, out_features=64, bias=True)\n",
            "      (sigmoid1): Sigmoid()\n",
            "      (linear2): Linear(in_features=64, out_features=256, bias=True)\n",
            "      (sigmoid2): Sigmoid()\n",
            "      (linear3): Linear(in_features=256, out_features=784, bias=True)\n",
            "      (sigmoid3): Sigmoid()\n",
            "      (unflatten): Unflatten(dim=1, unflattened_size=(1, 28, 28))\n",
            "    )\n",
            "  )\n",
            ")\n"
          ]
        }
      ]
    },
    {
      "cell_type": "code",
      "source": [
        "def train(model, optimizer, criterion, dataloader, epochs, device, every):\n",
        "    model.train()\n",
        "\n",
        "    for ep in range(epochs):\n",
        "        loss = 0.0\n",
        "\n",
        "        for image, _ in dataloader:\n",
        "            x = image.to(device)\n",
        "            pred_x = model(x)\n",
        "\n",
        "            crt = criterion(pred_x, x)\n",
        "            loss += crt.item()\n",
        "\n",
        "            optimizer.zero_grad()\n",
        "            crt.backward()\n",
        "            optimizer.step()\n",
        "        \n",
        "        loss /= len(dataloader)\n",
        "\n",
        "        if (ep + 1) % every == 0:\n",
        "            print(f'epoch={ep + 1}, loss={loss:.4f}')"
      ],
      "metadata": {
        "id": "jK1pVSWoO-my"
      },
      "execution_count": 195,
      "outputs": []
    },
    {
      "cell_type": "code",
      "source": [
        "train(autoencoder, optimizer, criterion, dataloader, epochs, device, pe)"
      ],
      "metadata": {
        "colab": {
          "base_uri": "https://localhost:8080/"
        },
        "id": "PMElCgBafVd5",
        "outputId": "1939b5be-1091-425f-beb1-3e9eea985c8e"
      },
      "execution_count": 196,
      "outputs": [
        {
          "output_type": "stream",
          "name": "stdout",
          "text": [
            "epoch=100, loss=0.0585\n",
            "epoch=200, loss=0.0524\n",
            "epoch=300, loss=0.0469\n",
            "epoch=400, loss=0.0435\n",
            "epoch=500, loss=0.0416\n",
            "epoch=600, loss=0.0394\n",
            "epoch=700, loss=0.0375\n",
            "epoch=800, loss=0.0366\n",
            "epoch=900, loss=0.0353\n",
            "epoch=1000, loss=0.0346\n"
          ]
        }
      ]
    },
    {
      "cell_type": "code",
      "source": [
        "def plot(dataset, model, device):\n",
        "    model.eval()\n",
        "\n",
        "    idx = random.randint(0, len(dataset) - 1)\n",
        "    image = dataset[idx][0].to(device).unsqueeze(0)\n",
        "\n",
        "    output = model(image)[0][0]\n",
        "    output = output.detach().cpu().numpy()\n",
        "\n",
        "    image = image[0][0].detach().cpu().numpy()\n",
        "\n",
        "    fig, axes = plt.subplots(1, 2, figsize=(10, 7))\n",
        "\n",
        "    axes[0].imshow(image, cmap='gray')\n",
        "    axes[1].imshow(output, cmap='gray')"
      ],
      "metadata": {
        "id": "uEVD47_4TG1H"
      },
      "execution_count": 197,
      "outputs": []
    },
    {
      "cell_type": "code",
      "source": [
        "plot(dataset, autoencoder, device)"
      ],
      "metadata": {
        "colab": {
          "base_uri": "https://localhost:8080/",
          "height": 302
        },
        "id": "tikTxg51Tl7z",
        "outputId": "8f8fe049-ff9d-4729-edb1-9d15b026c892"
      },
      "execution_count": 198,
      "outputs": [
        {
          "output_type": "display_data",
          "data": {
            "text/plain": [
              "<Figure size 720x504 with 2 Axes>"
            ],
            "image/png": "[encoded data removed]"
          },
          "metadata": {
            "needs_background": "light"
          }
        }
      ]
    },
    {
      "cell_type": "code",
      "source": [
        "bs = 64\n",
        "epochs = 1500\n",
        "lr = 0.001\n",
        "wd = 0.00001\n",
        "pe = 100\n",
        "split = 0.004\n",
        "device = torch.device('cuda:0') if torch.cuda.is_available() else torch.device('cpu')"
      ],
      "metadata": {
        "id": "yvrdqgTvm3iK"
      },
      "execution_count": 159,
      "outputs": []
    },
    {
      "cell_type": "code",
      "source": [
        "dataset = CIFAR10(root='.', download=True, train=True, transform=transforms.ToTensor())\n",
        "dataset, _ = torch.utils.data.random_split(dataset, [int(split * len(dataset)), int((1.0 - split) * len(dataset))])\n",
        "dataloader = DataLoader(dataset, batch_size=bs, shuffle=True)"
      ],
      "metadata": {
        "colab": {
          "base_uri": "https://localhost:8080/"
        },
        "id": "x4jc3aJMmv5I",
        "outputId": "f25561fb-99c3-484d-fc38-f2aa1e01bbd6"
      },
      "execution_count": 160,
      "outputs": [
        {
          "output_type": "stream",
          "name": "stdout",
          "text": [
            "Files already downloaded and verified\n"
          ]
        }
      ]
    },
    {
      "cell_type": "code",
      "source": [
        "autoencoder = AutoEncoder((3, 32, 32), [3072, 1024, 128], [128, 1024, 3072]).to(device)\n",
        "optimizer = Adam(autoencoder.parameters(), lr=lr, weight_decay=wd)\n",
        "criterion = nn.MSELoss()\n",
        "print(autoencoder)"
      ],
      "metadata": {
        "colab": {
          "base_uri": "https://localhost:8080/"
        },
        "id": "K0x89mCnm1QH",
        "outputId": "f9d7629a-58aa-4a5e-a329-6af50b7d39cb"
      },
      "execution_count": 166,
      "outputs": [
        {
          "output_type": "stream",
          "name": "stdout",
          "text": [
            "AutoEncoder(\n",
            "  (autoencoder): Sequential(\n",
            "    (encoder): Sequential(\n",
            "      (flatten): Flatten(start_dim=1, end_dim=-1)\n",
            "      (linear1): Linear(in_features=3072, out_features=1024, bias=True)\n",
            "      (sigmoid1): Sigmoid()\n",
            "      (linear2): Linear(in_features=1024, out_features=128, bias=True)\n",
            "    )\n",
            "    (decoder): Sequential(\n",
            "      (linear1): Linear(in_features=128, out_features=1024, bias=True)\n",
            "      (sigmoid1): Sigmoid()\n",
            "      (linear2): Linear(in_features=1024, out_features=3072, bias=True)\n",
            "      (sigmoid2): Sigmoid()\n",
            "      (unflatten): Unflatten(dim=1, unflattened_size=(3, 32, 32))\n",
            "    )\n",
            "  )\n",
            ")\n"
          ]
        }
      ]
    },
    {
      "cell_type": "code",
      "source": [
        "train(autoencoder, optimizer, criterion, dataloader, epochs, device, pe)"
      ],
      "metadata": {
        "colab": {
          "base_uri": "https://localhost:8080/"
        },
        "outputId": "bed92c6e-0692-43ad-d4fb-d54378e0cdfc",
        "id": "zTye-KWynIdl"
      },
      "execution_count": 167,
      "outputs": [
        {
          "output_type": "stream",
          "name": "stdout",
          "text": [
            "epoch=100, loss=0.0269\n",
            "epoch=200, loss=0.0210\n",
            "epoch=300, loss=0.0140\n",
            "epoch=400, loss=0.0133\n",
            "epoch=500, loss=0.0133\n",
            "epoch=600, loss=0.0107\n",
            "epoch=700, loss=0.0104\n",
            "epoch=800, loss=0.0097\n",
            "epoch=900, loss=0.0105\n",
            "epoch=1000, loss=0.0106\n",
            "epoch=1100, loss=0.0091\n",
            "epoch=1200, loss=0.0096\n",
            "epoch=1300, loss=0.0088\n",
            "epoch=1400, loss=0.0104\n",
            "epoch=1500, loss=0.0088\n"
          ]
        }
      ]
    },
    {
      "cell_type": "code",
      "source": [
        "def plot(dataset, model, device):\n",
        "    model.eval()\n",
        "\n",
        "    idx = random.randint(0, len(dataset) - 1)\n",
        "    image = dataset[idx][0].to(device).unsqueeze(0)\n",
        "\n",
        "    output = model(image)[0]\n",
        "    output = np.transpose(output.detach().cpu().numpy(), (1, 2, 0))\n",
        "\n",
        "    image = np.transpose(image[0].detach().cpu().numpy(), (1, 2, 0))\n",
        "\n",
        "    fig, axes = plt.subplots(1, 2, figsize=(10, 7))\n",
        "\n",
        "    axes[0].imshow(image)\n",
        "    axes[1].imshow(output)"
      ],
      "metadata": {
        "id": "86exSdHvnO0c"
      },
      "execution_count": 168,
      "outputs": []
    },
    {
      "cell_type": "code",
      "source": [
        "plot(dataset, autoencoder, device)"
      ],
      "metadata": {
        "colab": {
          "base_uri": "https://localhost:8080/",
          "height": 302
        },
        "outputId": "f028d51b-38ae-4fce-b011-1d143cf62ffa",
        "id": "qz3GvFlWnO0c"
      },
      "execution_count": 175,
      "outputs": [
        {
          "output_type": "display_data",
          "data": {
            "text/plain": [
              "<Figure size 720x504 with 2 Axes>"
            ],
            "image/png": "[encoded data removed]"
          },
          "metadata": {
            "needs_background": "light"
          }
        }
      ]
    },
    {
      "cell_type": "markdown",
      "source": [
        "## Выводы."
      ],
      "metadata": {
        "id": "vlcqoWKPUmDJ"
      }
    },
    {
      "cell_type": "markdown",
      "source": [
        "В данной лабораторной работе мы научились работать с автоассоциативными моделями с узким горлом."
      ],
      "metadata": {
        "id": "hSZ_XozmUnnl"
      }
    },
    {
      "cell_type": "code",
      "source": [],
      "metadata": {
        "id": "byL2AR3ORZ64"
      },
      "execution_count": null,
      "outputs": []
    }
  ]
}